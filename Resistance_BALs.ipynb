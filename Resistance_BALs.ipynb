{
 "cells": [
  {
   "cell_type": "code",
   "execution_count": null,
   "id": "a6bec417-70a0-45cf-bae8-76492d102196",
   "metadata": {},
   "outputs": [],
   "source": [
    "import sys\n",
    "sys.path.insert(0, '../src')\n",
    "\n",
    "import os\n",
    "import pandas as pd\n",
    "import numpy as np\n",
    "import matplotlib.pyplot as plt\n",
    "\n",
    "from carpediem import data as cd_data\n",
    "\n",
    "pd.options.display.max_columns = 300\n",
    "pd.options.display.max_rows = 200\n",
    "\n",
    "import seaborn as sns\n",
    "sns.set_context('paper')\n",
    "\n",
    "import builtins\n"
   ]
  },
  {
   "cell_type": "markdown",
   "id": "7a29a854",
   "metadata": {},
   "source": [
    "# Read in data"
   ]
  },
  {
   "cell_type": "markdown",
   "id": "b2896bdc",
   "metadata": {},
   "source": [
    "# Add EDW BAL results"
   ]
  },
  {
   "cell_type": "code",
   "execution_count": null,
   "id": "cf9c548c",
   "metadata": {},
   "outputs": [],
   "source": [
    "\n",
    "data = pd.read_parquet(cd_data.resources.edw['bal_results.pq'])"
   ]
  },
  {
   "cell_type": "markdown",
   "id": "e96de0d2",
   "metadata": {},
   "source": [
    "### Extract PCR and Culture results"
   ]
  },
  {
   "cell_type": "markdown",
   "id": "5291a363",
   "metadata": {},
   "source": [
    "**Pathogen information**\n",
    "1. Simple aggregates: Bacteria, Virus, Bacteria+Virus, Resistance flag\n",
    "2. Lossless pathogen information in a JSON field "
   ]
  },
  {
   "cell_type": "code",
   "execution_count": null,
   "id": "eaaf5b74",
   "metadata": {},
   "outputs": [],
   "source": [
    "to_collect = []\n",
    "pcr = data.loc[data.index_type.notna(), \"staphylococcus aureus\":\"SARS-COV-2\"].copy()"
   ]
  },
  {
   "cell_type": "code",
   "execution_count": null,
   "id": "56a8f7c7",
   "metadata": {},
   "outputs": [],
   "source": [
    "absent_pathogens = pcr.columns[pcr.notna().sum(axis=\"rows\") == 0]"
   ]
  },
  {
   "cell_type": "code",
   "execution_count": null,
   "id": "54bf78f9",
   "metadata": {},
   "outputs": [],
   "source": [
    "pcr.drop(absent_pathogens, axis=\"columns\", inplace=True)"
   ]
  },
  {
   "cell_type": "code",
   "execution_count": null,
   "id": "6d26f23a",
   "metadata": {},
   "outputs": [],
   "source": [
    "for c in pcr:\n",
    "    pcr[c] = pcr[c].str.contains(r\"Positive|(?<!Not )Detected\", regex=True)"
   ]
  },
  {
   "cell_type": "code",
   "execution_count": null,
   "id": "ac9b3a5a",
   "metadata": {},
   "outputs": [],
   "source": [
    "PCR_MERGES = {\n",
    "    'SARS-COV-2': 'covid_19',\n",
    "    'adenovirus - rvpdmb': 'adenovirus',\n",
    "    'respiratory syncytial-virus respan22': 'respiratory syncytial virus',\n",
    "    'human_metapneumovirus_lower_resp': 'human metapneumovirus',\n",
    "    'human_rhinovirus_enterovirus_lower_resp': 'human rhinovirus/enterovirus',\n",
    "}"
   ]
  },
  {
   "cell_type": "code",
   "execution_count": null,
   "id": "9b7e0127",
   "metadata": {},
   "outputs": [],
   "source": [
    "for s, t in PCR_MERGES.items():\n",
    "    idx = pcr[t].isna() & pcr[s].notna()\n",
    "    pcr.loc[idx, t] = pcr[s][idx]\n",
    "    pcr.drop(columns=s, inplace=True)"
   ]
  },
  {
   "cell_type": "code",
   "execution_count": null,
   "id": "ed5c9463",
   "metadata": {},
   "outputs": [],
   "source": [
    "PCR_STAPH = [\n",
    "    'staphylococcus aureus', \n",
    "]\n",
    "PCR_STREP = [\n",
    "    'streptococcus agalactiae', 'streptococcus pneumoniae', 'streptococcus pyogenes',\n",
    "]\n",
    "PCR_KLEB = [\n",
    "    'klebsiella aerogenes', 'klebsiella oxytoca',\n",
    "    'klebsiella pneumoniae group'\n",
    "]\n",
    "PCR_OTHER_BAC = [\n",
    "    'acinetobacter calcoaceticus-baumannii complex',\n",
    "    'enterobacter cloacae complex', 'escherichia coli',\n",
    "    'proteus spp', 'serratia marcescens',\n",
    "    'pseudomonas aeruginosa', 'haemophilus influenzae', 'chlamydia_pneumoniae_lower_resp',\n",
    "    'mycoplasma pneumonaie', 'moraxella catarrhalis',\n",
    "    'legionalla pneumophilia', 'bordetella pertussis', 'bordetella parapertussis',\n",
    "    'chlamydia pneumoniae', 'mycoplasma pneumoniae',\n",
    "\n",
    "]\n",
    "\n",
    "PCR_INFLUENZA = [\n",
    "    'influenza a', 'influenza b',\n",
    "    'parainfluenzae virus', 'influenza-a respan23', 'influenza a h3 (seasonal)',\n",
    "    'influenza a h1 (seasonal)', 'influenza a h1-2009',\n",
    "    'influenza-b respan21',\n",
    "    'para influ 1', 'para influ 2', 'para influ 3', 'parainfluenza virus 4', \n",
    "]\n",
    "PCR_CORONAVIRUS = [\n",
    "    'coronavirus',  'coronavirus 229e', 'coronavirus hku1',\n",
    "    'coronavirus nl63', 'coronavirus oc43',\n",
    "]\n",
    "PCR_ADENOVIRUS = [\n",
    "    'adenovirus'\n",
    "]\n",
    "PCR_RSV = [\n",
    "    'respiratory syncytial virus'\n",
    "]\n",
    "PCR_OTHER_VIRUS = [\n",
    "    'covid_19',  \n",
    "    'human metapneumovirus',\n",
    "    'human rhinovirus/enterovirus', \n",
    "]\n",
    "\n",
    "PCR_BACTERIA = PCR_STAPH + PCR_STREP + PCR_KLEB + PCR_OTHER_BAC\n",
    "\n",
    "PCR_VIRUS = PCR_INFLUENZA + PCR_CORONAVIRUS + PCR_ADENOVIRUS + PCR_RSV + PCR_OTHER_VIRUS\n",
    "\n",
    "PCR_RESISTANCE_MARKERS = [\n",
    "    'meca/c and mrej', 'oxa-48-like', 'ctx-m', 'kpc', 'ndm', 'imp', 'vim',\n",
    "]\n",
    "\n",
    "PCR_ALL = PCR_BACTERIA + PCR_VIRUS + PCR_RESISTANCE_MARKERS"
   ]
  },
  {
   "cell_type": "markdown",
   "id": "7d127b05",
   "metadata": {},
   "source": [
    "Verify above categories"
   ]
  },
  {
   "cell_type": "code",
   "execution_count": null,
   "id": "b6e7cd27",
   "metadata": {},
   "outputs": [],
   "source": [
    "set(pcr.columns) - set(PCR_BACTERIA) - set(PCR_RESISTANCE_MARKERS) - set(PCR_VIRUS)"
   ]
  },
  {
   "cell_type": "code",
   "execution_count": null,
   "id": "c484e46c",
   "metadata": {},
   "outputs": [],
   "source": [
    "pd.Series(PCR_BACTERIA).duplicated().sum()"
   ]
  },
  {
   "cell_type": "code",
   "execution_count": null,
   "id": "e98f9e4e",
   "metadata": {},
   "outputs": [],
   "source": [
    "pd.Series(PCR_RESISTANCE_MARKERS).duplicated().sum()"
   ]
  },
  {
   "cell_type": "code",
   "execution_count": null,
   "id": "5bd25833",
   "metadata": {},
   "outputs": [],
   "source": [
    "pd.Series(PCR_VIRUS).duplicated().sum()"
   ]
  },
  {
   "cell_type": "markdown",
   "id": "d8ba3082",
   "metadata": {},
   "source": [
    "Convert organism quantity to numbers"
   ]
  },
  {
   "cell_type": "code",
   "execution_count": null,
   "id": "e5185900",
   "metadata": {},
   "outputs": [],
   "source": [
    "for i in range(1, 7):\n",
    "    data[f\"organism_{i}_name\"] = data[f\"organism_{i}_name\"].fillna(\"NA\")\n",
    "    if not pd.api.types.is_numeric_dtype(data[f\"organism_{i}_quantity\"]):\n",
    "        data[f\"organism_{i}_quantity\"] = data[f\"organism_{i}_quantity\"].replace(\n",
    "            \"<10,000\", \"100\"\n",
    "        ).str.replace(\n",
    "            \">\", \"\"\n",
    "        ).str.replace(\",\", \"\").astype(float)"
   ]
  },
  {
   "cell_type": "markdown",
   "id": "9e171d0d",
   "metadata": {},
   "source": [
    "Process names and resistance indicators"
   ]
  },
  {
   "cell_type": "code",
   "execution_count": null,
   "id": "f20ad710",
   "metadata": {},
   "outputs": [],
   "source": [
    "def process_name(name):\n",
    "    name = name.strip()\n",
    "    resistance = False\n",
    "    \n",
    "    # Fancy antibiotics\n",
    "    if 'Ceftolozane/tazobactam' in name:\n",
    "        name = name[:name.index('Ceftolozane/tazobactam')].strip()\n",
    "    # Iron attached to 2 strong antibiotics Fetroga\n",
    "    if 'Cefiderocol' in name:\n",
    "        name = name[:name.index('Cefiderocol')].strip()\n",
    "    if name.endswith('(ESBL Positive)') or name.endswith('(ESBL positive)'):\n",
    "        name = name[:-len('(ESBL Positive)')].strip()\n",
    "        resistance = 'esbl'\n",
    "    if name.endswith('(Vancomycin Resistant)'):\n",
    "        name = name[:-len('(Vancomycin Resistant)')].strip()\n",
    "        resistance = 'vanc'\n",
    "    if name.endswith('Beta Lactamase Positive'):\n",
    "        name = name[:-len('Beta Lactamase Positive')].strip()\n",
    "        resistance = 'beta-l'\n",
    "    if name.endswith('Beta Lactamase Negative'):\n",
    "        name = name[:-len('Beta Lactamase Negative')].strip()\n",
    "    if name.endswith('Too fastidious for routine susceptibility testing.'):\n",
    "        name = name[:-len('Too fastidious for routine susceptibility testing.')].strip()\n",
    "        resistance = 'not-tested'\n",
    "        \n",
    "   \n",
    "    if name.endswith('(presumptive)'):\n",
    "        name = name[:-len('(presumptive)')].strip()\n",
    "    \n",
    "    if name.endswith('(Encapsulated Strain)'):\n",
    "        name = name[:-len('(Encapsulated Strain)')].strip()\n",
    "    if name.endswith('#2') or name.endswith('#3'):\n",
    "        name = name[:-2].strip()\n",
    "    if name.endswith('Group') or name.endswith('group'):\n",
    "        name = name[:-5].strip()\n",
    "        \n",
    "    if ',' not in name and '(' not in name and name.count(' ') == 1:\n",
    "        return name, resistance\n",
    "    \n",
    "    if name == 'Yeast, Not Cryptococcus Species':\n",
    "        return name, resistance\n",
    "    if name == 'Staphylococcus coagulase negative':\n",
    "        return name, resistance\n",
    "    if name == 'Methicillin-Resistant Staphylococcus aureus':\n",
    "        return 'Staphylococcus aureus', 'mrsa'\n",
    "    if name == 'Beta Hemolytic Streptococci, Group C':\n",
    "        return name, resistance\n",
    "    if name == 'Streptococcus agalactiae (Group B)':\n",
    "        return name, resistance\n",
    "    if name == 'Burkholderia cepacia complex':\n",
    "        return name, resistance\n",
    "    if name == 'Beta Hemolytic Streptococci, Group F':\n",
    "        return name, resistance\n",
    "    if name == 'Citrobacter freundii group (ESBL Positive) Note: This organism produces the KPC carbapenemase. Consultation with Infectious Disease Service is recommended.':\n",
    "        return 'Citrobacter freundii group', 'esbl, kpc'\n",
    "    if name == 'Enterobacter cloacae complex':\n",
    "        return name, resistance\n",
    "    if name == 'Haemophilus species, not influenzae':\n",
    "        return name, resistance\n",
    "    if name == 'Beta Hemolytic Streptococci, Group G':\n",
    "        return name, resistance\n",
    "    if name == 'Beta Hemolytic Streptococci, not Group A, B, C, D, F, or G':\n",
    "        return name, resistance\n",
    "    if name == 'Enterococcus faecalis Preliminarily reported as Enterococcus faecium':\n",
    "        return 'Enterococcus faecalis', resistance\n",
    "    if name == 'Streptococcus pyogenes (Group A)':\n",
    "        return name, resistance\n",
    "    if name == 'Acinetobacter baumannii complex':\n",
    "        return 'Acinetobacter baumannii', resistance\n",
    "    if name == 'Klebsiella (Enterobacter) aerogenes':\n",
    "        return 'Klebsiella aerogenes', resistance\n",
    "    if name == 'Streptococcus mitis oralis':\n",
    "        return name, resistance\n",
    "\n",
    "    print(f'[{name}]')\n",
    "    return name, resistance"
   ]
  },
  {
   "cell_type": "code",
   "execution_count": null,
   "id": "c599f8d1",
   "metadata": {},
   "outputs": [],
   "source": [
    "def compile_culture_result(row):\n",
    "    result = []\n",
    "    for i in range(1, 7):\n",
    "        name = row[f'organism_{i}_name']\n",
    "        if name in ('NA', np.nan):\n",
    "            continue\n",
    "        name, resistance = process_name(name)\n",
    "        result.append(dict(\n",
    "            name=name,\n",
    "            resistance=resistance,\n",
    "            cfu=row[f'organism_{i}_quantity'],\n",
    "        ))\n",
    "    performed = False\n",
    "    if isinstance(row.gram_stain_report_organisms, str) and len(row.gram_stain_report_organisms):\n",
    "        performed = True\n",
    "    return json.dumps(dict(performed=performed, organisms=result))\n",
    "    \n",
    "culture_results = data.loc[\n",
    "    data.index_type.notna(), \n",
    "    [f\"organism_{i}_name\" for i in range(1, 7)] \n",
    "        + [f\"organism_{i}_quantity\" for i in range(1, 7)]\n",
    "        + ['gram_stain_report_organisms']\n",
    "].apply(\n",
    "    compile_culture_result, \n",
    "    axis=\"columns\"\n",
    ")"
   ]
  },
  {
   "cell_type": "code",
   "execution_count": null,
   "id": "548758eb",
   "metadata": {},
   "outputs": [],
   "source": [
    "def compile_pcr_result(row):\n",
    "    pos = row.index[row.fillna(False)]\n",
    "    result = dict(resistance=[], bacteria=[], virus=[])\n",
    "    if pos.isin(PCR_RESISTANCE_MARKERS).sum() > 0:\n",
    "        result['resistance'] = pos[pos.isin(PCR_RESISTANCE_MARKERS)].tolist()\n",
    "    if pos.isin(PCR_BACTERIA).sum() > 0:\n",
    "        result['bacteria'] = pos[pos.isin(PCR_BACTERIA)].tolist()\n",
    "    if pos.isin(PCR_VIRUS).sum() > 0:\n",
    "        result['virus'] = pos[pos.isin(PCR_VIRUS)].tolist()\n",
    "    result['performed'] = False\n",
    "    if row.notna().sum() > 0:\n",
    "        result['performed'] = True\n",
    "    result['tests'] = row.index[row.notna()].tolist()\n",
    "    return json.dumps(result)\n",
    "    \n",
    "pcr_results = pcr.apply(compile_pcr_result, axis=\"columns\")"
   ]
  },
  {
   "cell_type": "code",
   "execution_count": null,
   "id": "124962c7",
   "metadata": {},
   "outputs": [],
   "source": [
    "FUNGAL_PREFIXES = [\n",
    "    'Candida', 'Yeast', 'Blastomyces', 'Aspergillus',\n",
    "    'Penicillium', 'Saccharomyces'\n",
    "]\n",
    "def process_fungal_name(name):\n",
    "    name = name.strip()\n",
    "    quantity = 'NA'\n",
    "    \n",
    "    if name.startswith('Rare'):\n",
    "        name = name[4:].strip()\n",
    "        quantity = 'rare'\n",
    "    if name.startswith('Many'):\n",
    "        name = name[4:].strip()\n",
    "        quantity = 'many'\n",
    "    if name.startswith('Few'):\n",
    "        name = name[3:].strip()\n",
    "        quantity = 'few'\n",
    "    if name.startswith('Moderate'):\n",
    "        name = name[len('Moderate'):].strip()\n",
    "        quantity = 'moderate'\n",
    "    \n",
    "    if name == 'CANGLA':\n",
    "        name = 'Candida glabrata'\n",
    "    if name == 'CANKRU':\n",
    "        name = 'Candida krusei'\n",
    "    if name == 'CANALB':\n",
    "        name = 'Candida albicans'\n",
    "    if name == 'CANPARAP':\n",
    "        name = 'Candida parapsilosis'\n",
    "    if name == 'CANDUB':\n",
    "        name = 'Candida dubliniensis'\n",
    "    if name == 'SACCER':\n",
    "        name = 'Saccharomyces cerevisiae'\n",
    "    if name == 'YEAST':\n",
    "        name = 'Yeast'\n",
    "    if name == 'CANGUI':\n",
    "        name = 'Candida guilliermondii'\n",
    "    if name == 'CANLUS':\n",
    "        name = 'Candida lusitaniae'\n",
    "    if name == 'ASPNF':\n",
    "        name = 'Aspergillus species, not fumigatus'\n",
    "    if name == 'ASPFUM':\n",
    "        name = 'Aspergillus fumigatus'\n",
    "    if name == 'YEANCA':\n",
    "        name = 'Yeast NCA'\n",
    "    if name == 'CANKEF':\n",
    "        name = 'Candida kefyr'\n",
    "    if name == 'PENEC':\n",
    "        name = 'Penicillium species'\n",
    "    if name == 'CANTRO':\n",
    "        name = 'Candida tropicalis'\n",
    "    if name == 'ASPER':\n",
    "        name = 'Aspergillus species'\n",
    "\n",
    "    if name == 'CRYNEO':\n",
    "        return 'Cryptococcus neoformans', quantity\n",
    "    if name == 'BLADER':\n",
    "        return 'Blastomyces dermatitidis', quantity\n",
    "    if name == 'YNCRY':\n",
    "        return 'Yeast, Not Cryptococcus Species', quantity\n",
    "    if name == 'GEOTR':\n",
    "        return 'Geotrichum species', quantity\n",
    "    if name == 'SMNFS':\n",
    "        return 'Sterile Mold', quantity\n",
    "    if name == 'Yeast, Not Cryptococcus Species':\n",
    "        return name, quantity\n",
    "    \n",
    "    for prefix in FUNGAL_PREFIXES:\n",
    "        if name.startswith(prefix) and name.count(' ') < 2 and '(' not in name:\n",
    "            return name, quantity\n",
    "\n",
    "    print(f'[{name}]')\n",
    "    return name, quantity"
   ]
  },
  {
   "cell_type": "code",
   "execution_count": null,
   "id": "0291481a",
   "metadata": {},
   "outputs": [],
   "source": [
    "def compile_fungal_result(row):\n",
    "    result = []\n",
    "    for i in range(1, 4):\n",
    "        name = row[f'culture_fungal_w_smear_bal_organism_id_{i}']\n",
    "        if name in ('NA', np.nan, 'Negative for Growth of Fungus at 4 weeks.'):\n",
    "            continue\n",
    "       \n",
    "        if name == 'See comment':\n",
    "            continue\n",
    "        name, quantity = process_fungal_name(name)\n",
    "        result.append(dict(\n",
    "            name=name,\n",
    "            quantity=quantity,\n",
    "        ))\n",
    "    return json.dumps(result)\n",
    "    \n",
    "fungal_results = data.loc[\n",
    "    data.index_type.notna(), \n",
    "    [f'culture_fungal_w_smear_bal_organism_id_{i}' for i in range(1, 4)]\n",
    "].apply(\n",
    "    compile_fungal_result, \n",
    "    axis='columns'\n",
    ")"
   ]
  },
  {
   "cell_type": "code",
   "execution_count": null,
   "id": "947e612c",
   "metadata": {},
   "outputs": [],
   "source": [
    "def merge_pcr_culture_fungal(row):\n",
    "    cul = json.loads(row.Culture)\n",
    "    pcr = json.loads(row.PCR)\n",
    "    fun = json.loads(row.Fungal)\n",
    "    return json.dumps(dict(pcr=pcr, culture=cul, fungal=fun))\n",
    "\n",
    "pathogen_results = pcr_results.to_frame().merge(\n",
    "    culture_results.to_frame(),\n",
    "    left_index=True, \n",
    "    right_index=True, \n",
    "    how=\"left\"\n",
    ").merge(\n",
    "    fungal_results.to_frame(),\n",
    "    left_index=True, \n",
    "    right_index=True, \n",
    "    how=\"left\"\n",
    ").rename({\"0_x\": \"PCR\", \"0_y\": \"Culture\", 0: \"Fungal\"}, axis=\"columns\").apply(\n",
    "    merge_pcr_culture_fungal,\n",
    "    axis='columns'\n",
    ")"
   ]
  },
  {
   "cell_type": "markdown",
   "id": "696d94b4",
   "metadata": {},
   "source": [
    "## Add PCR and Culture results to main dataframe"
   ]
  },
  {
   "cell_type": "code",
   "execution_count": null,
   "id": "64aff4ab",
   "metadata": {},
   "outputs": [],
   "source": [
    "data.loc[pathogen_results.index, 'pathogen_results'] = pathogen_results"
   ]
  },
  {
   "cell_type": "markdown",
   "id": "e0ac5fa0",
   "metadata": {},
   "source": [
    "## Setting pathogen fields from this\n",
    "\n",
    "* Any CFU thresholding?\n",
    "* Bacteria from both PCR and Culture, united?\n",
    "* **NB**: We trust PCR bacterial results without positive Culture\n",
    "\n",
    "A series of binary flags:\n",
    "1. Virus detected?\n",
    "2. Bacteria detected?\n",
    "3. Fungi detected?\n",
    "4. Resistance detected?\n",
    "5. Aspergillus detected?\n",
    "\n",
    "And\n",
    "+ names of the bugs with a separator"
   ]
  },
  {
   "cell_type": "markdown",
   "id": "d3f72756",
   "metadata": {},
   "source": [
    "1. Any virus (from PCR)?"
   ]
  },
  {
   "cell_type": "code",
   "execution_count": null,
   "id": "277d710e",
   "metadata": {},
   "outputs": [],
   "source": [
    "def any_virus(row):\n",
    "    if not isinstance(row.pathogen_results, str) and np.isnan(row.pathogen_results):\n",
    "        return np.nan\n",
    "    pathogens = json.loads(row.pathogen_results)\n",
    "    if len(pathogens['pcr']['virus']) > 0:\n",
    "        return True\n",
    "    return False\n",
    "data['pathogen_virus'] = data.apply(any_virus, axis=1)"
   ]
  },
  {
   "cell_type": "markdown",
   "id": "c160651b",
   "metadata": {},
   "source": [
    "2. Any bacteria (from PCR or from Culture with CFU >= 1000)"
   ]
  },
  {
   "cell_type": "code",
   "execution_count": null,
   "id": "dcc32aba",
   "metadata": {},
   "outputs": [],
   "source": [
    "def any_bacteria(row):\n",
    "    if not isinstance(row.pathogen_results, str) and np.isnan(row.pathogen_results):\n",
    "        return np.nan\n",
    "    pathogens = json.loads(row.pathogen_results)\n",
    "    if len(pathogens['pcr']['bacteria']) > 0:\n",
    "        return True\n",
    "    for pathogen in pathogens['culture']['organisms']:\n",
    "        if pathogen['cfu'] >= 1000:\n",
    "            return True\n",
    "    return False\n",
    "data['pathogen_bacteria'] = data.apply(any_bacteria, axis=1)"
   ]
  },
  {
   "cell_type": "markdown",
   "id": "90747421",
   "metadata": {},
   "source": [
    "3. Any fungus (from Fungal)"
   ]
  },
  {
   "cell_type": "code",
   "execution_count": null,
   "id": "3538fd49",
   "metadata": {},
   "outputs": [],
   "source": [
    "def any_fungus(row):\n",
    "    if not isinstance(row.pathogen_results, str) and np.isnan(row.pathogen_results):\n",
    "        return np.nan\n",
    "    pathogens = json.loads(row.pathogen_results)\n",
    "    if len(pathogens['fungal']) > 0:\n",
    "        return True\n",
    "    return False\n",
    "data['pathogen_fungi'] = data.apply(any_fungus, axis=1)"
   ]
  },
  {
   "cell_type": "markdown",
   "id": "bca248a2",
   "metadata": {},
   "source": [
    "4. Any resistance (from PCR markers or from Culture with CFU >= 1000)"
   ]
  },
  {
   "cell_type": "code",
   "execution_count": null,
   "id": "e58b0945",
   "metadata": {},
   "outputs": [],
   "source": [
    "def any_resistance(row):\n",
    "    if not isinstance(row.pathogen_results, str) and np.isnan(row.pathogen_results):\n",
    "        return np.nan\n",
    "    pathogens = json.loads(row.pathogen_results)\n",
    "    if len(pathogens['pcr']['resistance']) > 0:\n",
    "        return True\n",
    "    for pathogen in pathogens['culture']['organisms']:\n",
    "        if pathogen['cfu'] >= 1000:\n",
    "            if pathogen['resistance'] and pathogen['resistance'] != 'not-tested':\n",
    "                return True\n",
    "    return False\n",
    "data['pathogen_resistance'] = data.apply(any_resistance, axis=1)"
   ]
  },
  {
   "cell_type": "markdown",
   "id": "9c23600c",
   "metadata": {},
   "source": [
    "5. Any aspergillus?"
   ]
  },
  {
   "cell_type": "code",
   "execution_count": null,
   "id": "1a5d794e",
   "metadata": {},
   "outputs": [],
   "source": [
    "def any_aspergillus(row):\n",
    "    if not isinstance(row.pathogen_results, str) and np.isnan(row.pathogen_results):\n",
    "        return np.nan\n",
    "    pathogens = json.loads(row.pathogen_results)\n",
    "    for pathogen in pathogens['fungal']:\n",
    "        if pathogen['name'].startswith('Aspergillus'):\n",
    "            return True\n",
    "    return False\n",
    "data['pathogen_aspergillus'] = data.apply(any_aspergillus, axis=1)"
   ]
  },
  {
   "cell_type": "markdown",
   "id": "c8c4b0da",
   "metadata": {},
   "source": [
    "### Process BAL comment field for intracellular and extracellular pathogens"
   ]
  },
  {
   "cell_type": "code",
   "execution_count": null,
   "id": "df310138",
   "metadata": {},
   "outputs": [],
   "source": [
    "def process_comments(comment_o):\n",
    "    comment = comment_o\n",
    "    if not isinstance(comment, str):\n",
    "        return np.nan\n",
    "    if 'results called by' in comment.lower():\n",
    "        comment = comment[:comment.lower().index('results called by')]\n",
    "    if 'result called by' in comment.lower():\n",
    "        comment = comment[:comment.lower().index('result called by')]\n",
    "    if 'see separate' in comment.lower():\n",
    "        comment = comment[:comment.lower().index('see separate')]\n",
    "    if 'spoke to' in comment.lower():\n",
    "        comment = comment[:comment.lower().index('spoke to')]\n",
    "        \n",
    "    comment = re.split(r'\\.|,|/|\\sand\\s', comment)\n",
    "    # print(comment)\n",
    "    result = []\n",
    "    for piece in comment:\n",
    "        piece = piece.strip()\n",
    "        if len(piece) == 0:\n",
    "            continue\n",
    "        piece = piece.lower()\n",
    "        if 'other' in piece:\n",
    "            result.append('other')\n",
    "        elif 'smear' in piece:\n",
    "            result.append('smear')\n",
    "        elif (\n",
    "            'alveolar' in piece \n",
    "            or 'alveloar' in piece \n",
    "            or 'aveolar' in piece\n",
    "            or 'avleolar' in piece\n",
    "        ):\n",
    "            result.append('alveolar macs')\n",
    "        elif 'squamous' in piece or 'squamos' in piece:\n",
    "            result.append('squamous')\n",
    "        elif 'yeast' in piece:\n",
    "            result.append('yeast')\n",
    "        elif 'differential' in piece:\n",
    "            result.append('no result')\n",
    "        elif 'lining' in piece:\n",
    "            result.append('lining')\n",
    "        elif 'epithelial' in piece:\n",
    "            result.append('epithelial')\n",
    "        elif 'eosinophil' in piece:\n",
    "            result.append('eosinophil')\n",
    "        elif 'neutrophil' in piece:\n",
    "            result.append('neutrophil')\n",
    "        elif 'lymphocyte' in piece:\n",
    "            result.append('lymphocyte')\n",
    "        elif 'monocyte' in piece:\n",
    "            result.append('monocyte')\n",
    "        elif 'macrophage' in piece:\n",
    "            result.append('macrophage')\n",
    "        elif 'plasma cells' in piece:\n",
    "            result.append('plasma cells')\n",
    "        elif 'metamyelocytes' in piece:\n",
    "            result.append('metamyelocytes')\n",
    "        elif 'erythrophagocytosis' in piece or 'erythrophages' in piece:\n",
    "            result.append('erythrophagocytosis')\n",
    "        elif 'leukophagocytosis' in piece:\n",
    "            result.append('leukophagocytosis')\n",
    "        elif 'mucous clots' in piece:\n",
    "            result.append('mucous clots')\n",
    "        elif 'bacteria' in piece:\n",
    "            result.append('bacteria')\n",
    "        elif 'fungal' in piece or 'fungi' in piece:\n",
    "            result.append('fungi')\n",
    "        elif (\n",
    "            'affect' in piece \n",
    "            or ('affected' in piece and 'counts' in piece)\n",
    "            or 'inaccurate' in piece\n",
    "            or 'accurate' in piece\n",
    "            or 'affcted' in piece\n",
    "        ):\n",
    "            result.append('counts affected')\n",
    "        elif 'degeneration' in piece or 'degenration' in piece or 'degenerated' in piece:\n",
    "            result.append('degeneration')\n",
    "        elif 'extracellular' in piece and 'intracellular' in piece:\n",
    "            result.append('extracellular')\n",
    "            result.append('intracellular')\n",
    "        elif (\n",
    "            'extracellular' in piece \n",
    "            or 'axtracellular' in piece\n",
    "            or 'extracelllular' in piece\n",
    "            or 'extra cellular' in piece\n",
    "            or 'external' in piece\n",
    "        ):\n",
    "            result.append('extracellular')\n",
    "        elif (\n",
    "            'intracellular' in piece \n",
    "            or 'itracellular' in piece\n",
    "            or 'intacellular' in piece\n",
    "            or 'intra' in piece\n",
    "            or 'internal' in piece\n",
    "        ):\n",
    "            result.append('intracellular')\n",
    "        elif 'unidentified' in piece:\n",
    "            result.append('unidentified')\n",
    "        elif 'no cells' in piece:\n",
    "            result.append('no cells')\n",
    "        elif 'sample too viscous' in piece:\n",
    "            result.append('no result')\n",
    "        elif 'microorganisms' in piece:\n",
    "            result.append('bacteria')\n",
    "        elif (piece == '\"' or piece == 'critical'):\n",
    "            pass\n",
    "        else:\n",
    "            pass\n",
    "            print(comment_o)\n",
    "            print(f'[{piece}]')\n",
    "    return ','.join(sorted(result))\n",
    "\n",
    "    \n",
    "data['pathogen_comments'] = data.comments.apply(process_comments)"
   ]
  },
  {
   "cell_type": "code",
   "execution_count": null,
   "id": "d42d3a90",
   "metadata": {},
   "outputs": [],
   "source": [
    "data['pathogen_comments_intra'] = data.pathogen_comments.str.contains('intracellular')\n",
    "data['pathogen_comments_extra'] = data.pathogen_comments.str.contains('extracellular')"
   ]
  },
  {
   "cell_type": "code",
   "execution_count": null,
   "id": "3c81632e",
   "metadata": {},
   "outputs": [],
   "source": [
    "data.pathogen_comments_intra.value_counts()"
   ]
  },
  {
   "cell_type": "code",
   "execution_count": null,
   "id": "d66b4f70",
   "metadata": {},
   "outputs": [],
   "source": [
    "data.pathogen_comments_extra.value_counts()"
   ]
  },
  {
   "cell_type": "markdown",
   "id": "c763175b",
   "metadata": {},
   "source": [
    "## Set BAL numbers"
   ]
  },
  {
   "cell_type": "markdown",
   "id": "187a20be",
   "metadata": {},
   "source": [
    "Galactomannan"
   ]
  },
  {
   "cell_type": "code",
   "execution_count": null,
   "id": "9c5122ed",
   "metadata": {},
   "outputs": [],
   "source": [
    "col = 'aspergillus galactomannan antigen(nmh/lfh)'"
   ]
  },
  {
   "cell_type": "code",
   "execution_count": null,
   "id": "b917602d",
   "metadata": {},
   "outputs": [],
   "source": [
    "def pick_max(val):\n",
    "    if not isinstance(val, str):\n",
    "        return np.nan\n",
    "    result = []\n",
    "    for i in val.split():\n",
    "        result.append(float(i))\n",
    "    return max(result)\n",
    "data['pathogen_galactomannan'] = data[col].str.replace(\n",
    "    r'Negative|Positive|>=?', \n",
    "    '', \n",
    "    regex=True\n",
    ").str.strip().apply(pick_max)"
   ]
  },
  {
   "cell_type": "markdown",
   "id": "ca64c473",
   "metadata": {},
   "source": [
    "Amylase"
   ]
  },
  {
   "cell_type": "code",
   "execution_count": null,
   "id": "31c68be8",
   "metadata": {},
   "outputs": [],
   "source": [
    "data['amylase'] = data['amylase bf']\n",
    "data.loc[data.amylase.str.contains('The reference range and other method').fillna(False), 'amylase'] = np.nan\n",
    "data.amylase = data.amylase.str.replace('<10', '5').str.replace('>', '').astype(float)"
   ]
  },
  {
   "cell_type": "markdown",
   "id": "da17ce31",
   "metadata": {},
   "source": [
    "BAL cell count differential"
   ]
  },
  {
   "cell_type": "code",
   "execution_count": null,
   "id": "1a957419",
   "metadata": {},
   "outputs": [],
   "source": [
    "columns = {\n",
    "    'neutrophils, body fluid': 'bal_pct_neutro',\n",
    "    'macrophage bf': 'bal_pct_macro',\n",
    "    'monocyte bf': 'bal_pct_mono',\n",
    "    'lymph bf': 'bal_pct_lympho',\n",
    "    'eosinophils, body fluid': 'bal_pct_eos',\n",
    "    'plasma cell bf': 'bal_pct_plasma',\n",
    "    'other cells, body fluid': 'bal_pct_other'\n",
    "}"
   ]
  },
  {
   "cell_type": "code",
   "execution_count": null,
   "id": "a79a6d3b",
   "metadata": {},
   "outputs": [],
   "source": [
    "for col, new_name in columns.items():\n",
    "    data[new_name] = data[col]\n",
    "    if pd.api.types.is_numeric_dtype(data[new_name].dtype):\n",
    "        continue\n",
    "    data.loc[data[new_name].str.lower().str.contains('viscous').fillna(False), new_name] = np.nan\n",
    "    data[new_name] = (\n",
    "        data[new_name]\n",
    "            .str.strip()\n",
    "            .replace('TVTC', np.nan)\n",
    "            .replace('WBC too low to do differential. Smear on file.', np.nan)\n",
    "            .replace('See Comment', np.nan)\n",
    "            .astype(float)\n",
    "    )"
   ]
  },
  {
   "cell_type": "code",
   "execution_count": null,
   "id": "855a4163",
   "metadata": {},
   "outputs": [],
   "source": [
    "cd_data.export(\n",
    "    data, \n",
    "    path=cd_data.materials.general['03_counting'].path, \n",
    "    name='03_counting_with_BAL'\n",
    ")"
   ]
  }
 ],
 "metadata": {
  "kernelspec": {
   "display_name": "Python 3 (ipykernel)",
   "language": "python",
   "name": "python3"
  },
  "language_info": {
   "codemirror_mode": {
    "name": "ipython",
    "version": 3
   },
   "file_extension": ".py",
   "mimetype": "text/x-python",
   "name": "python",
   "nbconvert_exporter": "python",
   "pygments_lexer": "ipython3",
   "version": "3.12.5"
  }
 },
 "nbformat": 4,
 "nbformat_minor": 5
}
